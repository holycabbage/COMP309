{
 "cells": [
  {
   "cell_type": "code",
   "execution_count": 126,
   "metadata": {},
   "outputs": [],
   "source": [
    "import pandas as pd\n",
    "from scipy.io import arff\n",
    "import numpy as np\n",
    "import matplotlib.pyplot as plt\n",
    "import numpy.random as rng\n",
    "\n",
    "from sklearn.neighbors import KNeighborsClassifier\n",
    "from sklearn.model_selection import train_test_split\n",
    "from sklearn.metrics import accuracy_score"
   ]
  },
  {
   "cell_type": "code",
   "execution_count": 127,
   "metadata": {},
   "outputs": [],
   "source": [
    "steel_plates_fauly = arff.loadarff('php9xWOpn.arff')\n",
    "ionosphere = arff.loadarff('dataset_59_ionosphere.arff')\n",
    "banknote = arff.loadarff('php50jXam.arff')\n",
    "\n",
    "spf = pd.DataFrame(steel_plates_fauly[0])\n",
    "ion = pd.DataFrame(ionosphere[0])\n",
    "bank = pd.DataFrame(banknote[0])\n",
    "\n",
    "spf_data = spf.to_numpy()\n",
    "ion_data = ion.to_numpy()\n",
    "bank_data = bank.to_numpy()\n",
    "\n",
    "X1 = spf_data[:, :-1]\n",
    "y1 = spf_data[:, -1]\n",
    "\n",
    "X2 = ion_data[:, :-1]\n",
    "y2 = ion_data[:, -1]\n",
    "\n",
    "X3 = bank_data[:, :-1]\n",
    "y3 = bank_data[:, -1]"
   ]
  },
  {
   "cell_type": "code",
   "execution_count": 130,
   "metadata": {},
   "outputs": [
    {
     "data": {
      "image/png": "[encoded data removed]",
      "text/plain": [
       "<Figure size 432x288 with 1 Axes>"
      ]
     },
     "metadata": {
      "needs_background": "light"
     },
     "output_type": "display_data"
    },
    {
     "data": {
      "image/png": "[encoded data removed]",
      "text/plain": [
       "<Figure size 432x288 with 1 Axes>"
      ]
     },
     "metadata": {
      "needs_background": "light"
     },
     "output_type": "display_data"
    },
    {
     "data": {
      "image/png": "[encoded data removed]",
      "text/plain": [
       "<Figure size 432x288 with 1 Axes>"
      ]
     },
     "metadata": {
      "needs_background": "light"
     },
     "output_type": "display_data"
    }
   ],
   "source": [
    "neighbor_values  = [1,2,3,4,5]\n",
    "spf_accuracy_list = []\n",
    "ion_accuracy_list = []\n",
    "bank_accuracy_list = []\n",
    "\n",
    "for n in neighbor_values:\n",
    "    for r in range(50):\n",
    "\n",
    "        X_train, X_test, y_train, y_test = train_test_split(X1, y1, test_size=0.5, random_state=r)\n",
    "        y_train = y_train.astype('str')\n",
    "        y_test = y_test.astype('str')\n",
    "\n",
    "        neigh = KNeighborsClassifier(n_neighbors=n)   \n",
    "\n",
    "        neigh.fit(X_train, y_train)\n",
    "        pre_y = neigh.predict(X_test)\n",
    "\n",
    "        spf_accuracy = accuracy_score(y_test, pre_y)\n",
    "        spf_accuracy_list.append(spf_accuracy)\n",
    "\n",
    "for n in neighbor_values:\n",
    "    for r in range(50):\n",
    "\n",
    "        X_train, X_test, y_train, y_test = train_test_split(X2, y2, test_size=0.5, random_state=r)\n",
    "        y_train = y_train.astype('str')\n",
    "        y_test = y_test.astype('str')\n",
    "\n",
    "        neigh = KNeighborsClassifier(n_neighbors=n)   \n",
    "\n",
    "        neigh.fit(X_train, y_train)\n",
    "        pre_y = neigh.predict(X_test)\n",
    "\n",
    "        ion_accuracy = accuracy_score(y_test, pre_y)\n",
    "        ion_accuracy_list.append(ion_accuracy)\n",
    "\n",
    "\n",
    "for n in neighbor_values:\n",
    "    for r in range(50):\n",
    "\n",
    "        X_train, X_test, y_train, y_test = train_test_split(X3, y3, test_size=0.5, random_state=r)\n",
    "        y_train = y_train.astype('str')\n",
    "        y_test = y_test.astype('str')\n",
    "\n",
    "        neigh = KNeighborsClassifier(n_neighbors=n)   \n",
    "\n",
    "        neigh.fit(X_train, y_train)\n",
    "        pre_y = neigh.predict(X_test)\n",
    "\n",
    "        bank_accuracy = accuracy_score(y_test, pre_y)\n",
    "        bank_accuracy_list.append(bank_accuracy)\n",
    "\n",
    "spfDF = pd.DataFrame( {'1':spf_accuracy_list[0:50], '2':spf_accuracy_list[50:100], '3':spf_accuracy_list[100:150], '4':spf_accuracy_list[150:200], '5':spf_accuracy_list[200:250] } )\n",
    "ionDF = pd.DataFrame( {'1':ion_accuracy_list[0:50], '2':ion_accuracy_list[50:100], '3':ion_accuracy_list[100:150], '4':ion_accuracy_list[150:200], '5':ion_accuracy_list[200:250] } )\n",
    "bankDf = pd.DataFrame( {'1':bank_accuracy_list[0:50], '2':bank_accuracy_list[50:100], '3':bank_accuracy_list[100:150], '4':bank_accuracy_list[150:200], '5':bank_accuracy_list[200:250] } )\n",
    "\n",
    "plt.boxplot(spfDF)\n",
    "plt.show()\n",
    "plt.boxplot(ionDF)\n",
    "plt.show()\n",
    "plt.boxplot(bankDf)\n",
    "plt.show()"
   ]
  }
 ],
 "metadata": {
  "interpreter": {
   "hash": "8b6eb8b35da9d363ab8f042a995dc2a2a39b0caa186f96c36c9870b05d6670ca"
  },
  "kernelspec": {
   "display_name": "Python 3.9.12 ('base')",
   "language": "python",
   "name": "python3"
  },
  "language_info": {
   "codemirror_mode": {
    "name": "ipython",
    "version": 3
   },
   "file_extension": ".py",
   "mimetype": "text/x-python",
   "name": "python",
   "nbconvert_exporter": "python",
   "pygments_lexer": "ipython3",
   "version": "3.9.12"
  },
  "orig_nbformat": 4
 },
 "nbformat": 4,
 "nbformat_minor": 2
}
